{
 "cells": [
  {
   "cell_type": "code",
   "execution_count": 5,
   "id": "471e65f7",
   "metadata": {},
   "outputs": [
    {
     "name": "stdout",
     "output_type": "stream",
     "text": [
      "entrez le mot que vous desirer cripter g\n",
      "cd0aa9856147b6c5b4ff2b7dfee5da20aa38253099ef1b4a64aced233c9afe29\n"
     ]
    }
   ],
   "source": [
    "import hashlib\n",
    "def hachage(texte):\n",
    "    h = hashlib.sha256()\n",
    "    h.update(entree.encode('utf-8'))\n",
    "    return h.hexdigest()\n",
    "texte =input(\"entrez le mot que vous desirer cripter \")\n",
    "texte_hashe = ma_fonction_de_hachage(texte)\n",
    "print(texte_hashe)"
   ]
  },
  {
   "cell_type": "code",
   "execution_count": null,
   "id": "ddcac4d1",
   "metadata": {},
   "outputs": [],
   "source": []
  }
 ],
 "metadata": {
  "kernelspec": {
   "display_name": "Python 3 (ipykernel)",
   "language": "python",
   "name": "python3"
  },
  "language_info": {
   "codemirror_mode": {
    "name": "ipython",
    "version": 3
   },
   "file_extension": ".py",
   "mimetype": "text/x-python",
   "name": "python",
   "nbconvert_exporter": "python",
   "pygments_lexer": "ipython3",
   "version": "3.10.9"
  }
 },
 "nbformat": 4,
 "nbformat_minor": 5
}
