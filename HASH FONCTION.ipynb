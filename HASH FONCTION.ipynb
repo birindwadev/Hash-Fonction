{
 "cells": [
  {
   "cell_type": "code",
   "execution_count": 24,
   "id": "5e295887",
   "metadata": {},
   "outputs": [
    {
     "name": "stdout",
     "output_type": "stream",
     "text": [
      "entrez la chaine à hasherjonathan\n",
      "entrez le coeficient  34\n",
      "entrez le l'ordonnée à l'origine  45\n",
      "le coefficient directeur est : 34  et l'ordonée à l'origine est : 45\n",
      "le resultat de votre hashage est : JXPPLTPP\n"
     ]
    }
   ],
   "source": [
    "def fonction_hashage(chaine, a, b ): \n",
    "    chaine_code=\"\"\n",
    "    for i in chaine:\n",
    "        indice = ord(i)-ord('A')\n",
    "        indice = (indice*a+b)%26\n",
    "        chaine_code += chr(indice+ord('A')) \n",
    "    return chaine_code\n",
    "entree= input(\"entrez la chaine à hasher\")\n",
    "while True:\n",
    "    try:\n",
    "        coef= input(\"entrez le coeficient  \")\n",
    "        coef=int(coef)\n",
    "        break \n",
    "    except ValueError:\n",
    "        print(\"veuillez saisir un entier valide \")\n",
    "while True:\n",
    "    try:\n",
    "        ordo= input(\"entrez le l'ordonnée à l'origine  \")\n",
    "        ordo=int(ordo)\n",
    "        break \n",
    "    except ValueError:\n",
    "        print(\"veuillez saisir un entier valide\") \n",
    "print(\"le coefficient directeur est :\", coef, \" et l'ordonée à l'origine est :\", ordo)\n",
    "print(\"le resultat de votre hashage est :\",fonction_hashage(entree,coef,ordo))\n"
   ]
  },
  {
   "cell_type": "code",
   "execution_count": null,
   "id": "e36a30cc",
   "metadata": {},
   "outputs": [],
   "source": []
  },
  {
   "cell_type": "code",
   "execution_count": null,
   "id": "0bed5897",
   "metadata": {},
   "outputs": [],
   "source": []
  }
 ],
 "metadata": {
  "kernelspec": {
   "display_name": "Python 3 (ipykernel)",
   "language": "python",
   "name": "python3"
  },
  "language_info": {
   "codemirror_mode": {
    "name": "ipython",
    "version": 3
   },
   "file_extension": ".py",
   "mimetype": "text/x-python",
   "name": "python",
   "nbconvert_exporter": "python",
   "pygments_lexer": "ipython3",
   "version": "3.10.9"
  }
 },
 "nbformat": 4,
 "nbformat_minor": 5
}
