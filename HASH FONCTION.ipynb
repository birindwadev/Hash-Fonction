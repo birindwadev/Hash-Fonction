{
 "cells": [
  {
   "cell_type": "code",
   "execution_count": 4,
   "id": "e9ff805a",
   "metadata": {},
   "outputs": [
    {
     "name": "stdout",
     "output_type": "stream",
     "text": [
      "entrez le mot que vous désirez cripter 1\n",
      "le texte hashé correspond à :  6b86b273ff34fce19d6b804eff5a3f5747ada4eaa22f1d49c01e52ddb7875b4b\n"
     ]
    }
   ],
   "source": [
    "import hashlib\n",
    "def hachage(texte):\n",
    "    hash1 = hashlib.sha256()\n",
    "    hash1.update(texte.encode('utf-8'))\n",
    "    return hash1.hexdigest()\n",
    "texte =input(\"entrez le mot que vous désirez cripter \")\n",
    "texte_hashe = hachage(texte)\n",
    "print(\"le texte hashé correspond à : \",texte_hashe)"
   ]
  },
  {
   "cell_type": "code",
   "execution_count": null,
   "id": "a1db5e25",
   "metadata": {},
   "outputs": [],
   "source": []
  },
  {
   "cell_type": "code",
   "execution_count": null,
   "id": "2837423e",
   "metadata": {},
   "outputs": [],
   "source": []
  }
 ],
 "metadata": {
  "kernelspec": {
   "display_name": "Python 3 (ipykernel)",
   "language": "python",
   "name": "python3"
  },
  "language_info": {
   "codemirror_mode": {
    "name": "ipython",
    "version": 3
   },
   "file_extension": ".py",
   "mimetype": "text/x-python",
   "name": "python",
   "nbconvert_exporter": "python",
   "pygments_lexer": "ipython3",
   "version": "3.10.9"
  }
 },
 "nbformat": 4,
 "nbformat_minor": 5
}
