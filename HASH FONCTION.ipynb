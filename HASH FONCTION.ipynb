{
 "cells": [
  {
   "cell_type": "code",
   "execution_count": 7,
   "id": "5e295887",
   "metadata": {},
   "outputs": [
    {
     "name": "stdout",
     "output_type": "stream",
     "text": [
      "entrez la chaine à hasher : jonathan\n",
      "le hashage de jonathan est : APMZEUZM\n"
     ]
    }
   ],
   "source": [
    "def fonction_hashage(chaine, a, b ): \n",
    "    # on initialise la chaine codé à une chaine vide\n",
    "    chaine_code=\"\"\n",
    "    \n",
    "     # on parcour alors la chaine saisie par l'utilisateur caractère par caractère\n",
    "    for i in chaine:\n",
    "        # ici on defini d'abord  l'alphabet  ainsi que longueur en commencant par la première lettre A \n",
    "        # l'alphabet contient 26 lettres ce qui équivaut à 25 pour Z en commencant par 0 \n",
    "        # ord récupere le nombre ou le chiffre correspondant à la lettre\n",
    "        # i parcours la chaine caractère par caractère et récupere le chiffre correspondant au caractère\n",
    "        # le chiffre trouvé est comparé au chiffre corespondant à A \n",
    "        indice = ord(i)-ord('A')\n",
    "        # ce chiffre est stocké dans la variable indice\n",
    "         # on applique la formule et on l'ajoute au résultat\n",
    "         # on applique la formule et on l'ajoute au résultat   \n",
    "        indice = (indice*a+b)%26\n",
    "        # on récupère cette fois pour chaque chiffre obtenu par la formule le caractère correspondant \n",
    "        # attention! il ne faut pas oublier que l'on definit une boucle qui parcours la chaine saisie par l'utilisateur \n",
    "        chaine_code += chr(indice+ord('A')) \n",
    "        \n",
    "        # la fonction rétourne alors la totalité des caractères qui constituent la chaine saisie après toutes les étapes citées ci-haut\n",
    "    return chaine_code\n",
    "# le programme demande à l'utilisateur de saisir une chaine au clavier \n",
    "entree= input(\"entrez la chaine à hasher : \")\n",
    "\n",
    "# le programme affiche en fin le résultat du hachage\n",
    "# le f qui vient juste après print() ou disons la première lettre f dans la fonnction print est un formatage de caractère en python \n",
    "# quelqu'un d'autre aurait ecris print(\"le hashage de \",entree \" est \", fonction_hashage(entree, 3,7))\n",
    "print(f\"le hashage de {entree} est : {fonction_hashage(entree,3,7)}\")"
   ]
  },
  {
   "cell_type": "code",
   "execution_count": null,
   "id": "285a9821",
   "metadata": {},
   "outputs": [],
   "source": []
  }
 ],
 "metadata": {
  "kernelspec": {
   "display_name": "Python 3 (ipykernel)",
   "language": "python",
   "name": "python3"
  },
  "language_info": {
   "codemirror_mode": {
    "name": "ipython",
    "version": 3
   },
   "file_extension": ".py",
   "mimetype": "text/x-python",
   "name": "python",
   "nbconvert_exporter": "python",
   "pygments_lexer": "ipython3",
   "version": "3.10.9"
  }
 },
 "nbformat": 4,
 "nbformat_minor": 5
}
